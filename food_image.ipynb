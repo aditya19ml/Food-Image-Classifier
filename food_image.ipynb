{
  "cells": [
    {
      "cell_type": "code",
      "execution_count": null,
      "metadata": {
        "id": "IINd8IivE8YY"
      },
      "outputs": [],
      "source": [
        "import os\n",
        "import tensorflow as tf\n",
        "from tensorflow.keras import layers\n",
        "from tensorflow.keras import Model\n",
        "from os import getcwd"
      ]
    },
    {
      "cell_type": "code",
      "execution_count": null,
      "metadata": {
        "colab": {
          "base_uri": "https://localhost:8080/"
        },
        "id": "t6MzRPbWHVRg",
        "outputId": "8654ceac-ca26-41a1-f78e-dd047821527a"
      },
      "outputs": [
        {
          "output_type": "stream",
          "name": "stdout",
          "text": [
            "/content\n"
          ]
        }
      ],
      "source": [
        "!pwd"
      ]
    },
    {
      "cell_type": "code",
      "execution_count": null,
      "metadata": {
        "colab": {
          "base_uri": "https://localhost:8080/"
        },
        "id": "pzJkSEeFHXSo",
        "outputId": "edb54480-0340-47b8-a028-bb1865cb6bf3"
      },
      "outputs": [
        {
          "output_type": "stream",
          "name": "stdout",
          "text": [
            "Drive already mounted at /content/drive/; to attempt to forcibly remount, call drive.mount(\"/content/drive/\", force_remount=True).\n"
          ]
        }
      ],
      "source": [
        "from google.colab import drive\n",
        "drive.mount('/content/drive/')"
      ]
    },
    {
      "cell_type": "code",
      "execution_count": null,
      "metadata": {
        "id": "gKIQpqW_HjaC"
      },
      "outputs": [],
      "source": [
        "path_dataset = f\"{getcwd()}/../content/drive/MyDrive/dataset\""
      ]
    },
    {
      "cell_type": "code",
      "execution_count": null,
      "metadata": {
        "colab": {
          "base_uri": "https://localhost:8080/",
          "height": 35
        },
        "id": "X5Lswfwoptpn",
        "outputId": "9a35ded3-784b-4163-a6cf-9a59b1d9cbe9"
      },
      "outputs": [
        {
          "output_type": "execute_result",
          "data": {
            "application/vnd.google.colaboratory.intrinsic+json": {
              "type": "string"
            },
            "text/plain": [
              "'/content/../content/drive/MyDrive/dataset'"
            ]
          },
          "metadata": {},
          "execution_count": 12
        }
      ],
      "source": [
        "path_dataset"
      ]
    },
    {
      "cell_type": "code",
      "execution_count": null,
      "metadata": {
        "colab": {
          "base_uri": "https://localhost:8080/"
        },
        "id": "cBqtuOkdHowN",
        "outputId": "ae62d655-4839-4bb3-c7d0-cdea54a0674e"
      },
      "outputs": [
        {
          "output_type": "stream",
          "name": "stdout",
          "text": [
            "Total donuts Images: 1150\n",
            "Total fries Images: 1000\n",
            "Total noodles Images: 1000\n",
            "Total pizza Images: 1000\n",
            "Total samosa Images: 1000\n"
          ]
        }
      ],
      "source": [
        "import os\n",
        "\n",
        "donuts = os.path.join('/content/drive/MyDrive/dataset/donuts')\n",
        "fries = os.path.join('/content/drive/MyDrive/dataset/fries')\n",
        "noodles = os.path.join('/content/drive/MyDrive/dataset/noodles')\n",
        "pizza = os.path.join('/content/drive/MyDrive/dataset/pizza')\n",
        "samosa = os.path.join('/content/drive/MyDrive/dataset/samosa')\n",
        " \n",
        "print('Total donuts Images:',len(os.listdir(donuts)))\n",
        "print('Total fries Images:',len(os.listdir(fries)))\n",
        "print('Total noodles Images:',len(os.listdir(noodles)))\n",
        "print('Total pizza Images:',len(os.listdir(pizza)))\n",
        "print('Total samosa Images:',len(os.listdir(samosa)))\n",
        "\n",
        "\n"
      ]
    },
    {
      "cell_type": "code",
      "execution_count": null,
      "metadata": {
        "id": "Fs8DaXjsHuLR",
        "colab": {
          "base_uri": "https://localhost:8080/"
        },
        "outputId": "8013f993-78f0-43c5-9a0a-13b1206da645"
      },
      "outputs": [
        {
          "output_type": "stream",
          "name": "stdout",
          "text": [
            "/content/drive/MyDrive/dataset/samosa\n",
            "no of images in this folder: 1000\n",
            "/content/drive/MyDrive/dataset/donuts\n",
            "no of images in this folder: 1150\n",
            "/content/drive/MyDrive/dataset/pizza\n",
            "no of images in this folder: 1000\n",
            "/content/drive/MyDrive/dataset/noodles\n",
            "no of images in this folder: 1000\n",
            "/content/drive/MyDrive/dataset/fries\n",
            "no of images in this folder: 1000\n"
          ]
        }
      ],
      "source": [
        "from glob import glob\n",
        "import os.path\n",
        "from shutil import copy2\n",
        "\n",
        "path = '/content/drive/MyDrive/dataset'\n",
        "test = '/content/drive/MyDrive/Test'\n",
        "train = '/content/drive/MyDrive/Train'\n",
        "\n",
        "if not os.path.exists(test):\n",
        "\tos.makedirs(test)\n",
        "if not os.path.exists(train):\n",
        "\tos.makedirs(train)\n",
        " \n",
        "for folder in glob(path+'/*'):\n",
        "\t\tprint(folder)\n",
        "\t\t# find number of images in folder\n",
        "\t\tno_images_in_folder = len(os.listdir(folder))\n",
        "\t\t# make new folder inside test and train\n",
        "\t\tfolder_test = test+'/'+folder.split('/')[5]+'/'\n",
        "\t\tfolder_train = train+'/'+folder.split('/')[5]+'/'\n",
        "\t\t#print(folder_test)\n",
        "\t\t# print(folder_train)\n",
        "\t\tif not os.path.exists(folder_test):\n",
        "\t\t\tos.makedirs(folder_test)\n",
        "\t\tif not os.path.exists(folder_train):\n",
        "\t\t\tos.makedirs(folder_train)\n",
        "\n",
        "\t\tprint(\"no of images in this folder: {}\".format(no_images_in_folder))\n",
        "\t\ttrain_num = int(no_images_in_folder*0.8)\n",
        "\t\t\n",
        "\t\t# iterate from 0..test and copy to test\n",
        "\t\t# iterate test to end and copy to train\n",
        "\t\tfor idx, im in enumerate(glob(folder+'/*')):\n",
        "\t\t\t#print(im)\n",
        "\t\t\tif idx <= train_num:\n",
        "\t\t\t# copy to test\n",
        "\t\t\t\tcopy2(im, folder_train)\n",
        "\t\t\telse:\n",
        "\t\t\t# copy to train\n",
        "\t\t\t\tcopy2(im, folder_test)"
      ]
    },
    {
      "cell_type": "code",
      "execution_count": null,
      "metadata": {
        "colab": {
          "base_uri": "https://localhost:8080/"
        },
        "id": "erg_TAscHzE7",
        "outputId": "69c39f4b-026e-44ed-81e8-42d1399641ee"
      },
      "outputs": [
        {
          "output_type": "stream",
          "name": "stdout",
          "text": [
            "921\n",
            "801\n",
            "801\n",
            "801\n",
            "801\n",
            "229\n",
            "199\n",
            "199\n",
            "199\n",
            "199\n"
          ]
        }
      ],
      "source": [
        "# Define our example directories and files\n",
        "train_dir = '/content/drive/MyDrive/Train'\n",
        "validation_dir = '/content/drive/MyDrive/Test'\n",
        "\n",
        "train_donuts_dir = os.path.join(train_dir,'donuts')\n",
        "train_fries_dir = os.path.join(train_dir,'fries')\n",
        "train_noodles_dir = os.path.join(train_dir,'noodles')\n",
        "train_pizza_dir = os.path.join(train_dir,'pizza')\n",
        "train_samosa_dir = os.path.join(train_dir,'samosa')\n",
        "validation_donuts_dir = os.path.join(validation_dir,'donuts')\n",
        "validation_fries_dir = os.path.join(validation_dir,'fries')\n",
        "validation_noodles_dir = os.path.join(validation_dir,'noodles')\n",
        "validation_pizza_dir = os.path.join(validation_dir,'pizza')\n",
        "validation_samosa_dir = os.path.join(validation_dir,'samosa')\n",
        "\n",
        "train_donuts_fnames = os.listdir(train_donuts_dir)\n",
        "train_fries_fnames = os.listdir(train_fries_dir)\n",
        "train_noodles_fnames = os.listdir(train_noodles_dir)\n",
        "train_pizza_fnames = os.listdir(train_pizza_dir)\n",
        "train_samosa_fnames = os.listdir(train_samosa_dir)\n",
        "validation_donuts_fnames = os.listdir(validation_donuts_dir)\n",
        "validation_fries_fnames = os.listdir(validation_fries_dir)\n",
        "validation_noodles_fnames = os.listdir(validation_noodles_dir)\n",
        "validation_pizza_fnames = os.listdir(validation_pizza_dir)\n",
        "validation_samosa_fnames = os.listdir(validation_samosa_dir)\n",
        "\n",
        "print(len(train_donuts_fnames))\n",
        "print(len(train_fries_fnames))\n",
        "print(len(train_noodles_fnames))\n",
        "print(len(train_pizza_fnames))\n",
        "print(len(train_samosa_fnames))\n",
        " \n",
        "print(len(validation_donuts_fnames))\n",
        "print(len(validation_fries_fnames))\n",
        "print(len(validation_noodles_fnames))\n",
        "print(len(validation_pizza_fnames))\n",
        "print(len(validation_samosa_fnames))\n",
        " "
      ]
    },
    {
      "cell_type": "code",
      "execution_count": null,
      "metadata": {
        "colab": {
          "base_uri": "https://localhost:8080/"
        },
        "id": "7dbu4Lb6H22S",
        "outputId": "cbf4bbe0-0c4d-4392-96b5-56ce3ea75766"
      },
      "outputs": [
        {
          "output_type": "stream",
          "name": "stdout",
          "text": [
            "Found 4125 images belonging to 5 classes.\n",
            "Found 1025 images belonging to 5 classes.\n"
          ]
        }
      ],
      "source": [
        "from tensorflow.keras.preprocessing.image import ImageDataGenerator\n",
        " \n",
        "train_datagen = ImageDataGenerator(rescale=1./255,\n",
        "      rotation_range=40,\n",
        "      width_shift_range=0.2,\n",
        "      height_shift_range=0.2,\n",
        "      shear_range=0.2,\n",
        "      zoom_range=0.2,\n",
        "      horizontal_flip=True,\n",
        "      fill_mode='nearest')\n",
        "\n",
        " \n",
        "test_datagen = ImageDataGenerator(rescale=1/255)\n",
        "\n",
        " \n",
        "train_generator = train_datagen.flow_from_directory(train_dir,   \n",
        "        target_size=(224,224), \n",
        "        batch_size=20,\n",
        "        class_mode='categorical')\n",
        "\n",
        " \n",
        "validation_generator =  test_datagen.flow_from_directory( validation_dir,  # This is the source directory for training images\n",
        "        target_size=(224,224), \n",
        "        batch_size=20,\n",
        "        class_mode='categorical')"
      ]
    },
    {
      "cell_type": "code",
      "source": [
        "label_map = (train_generator.class_indices)"
      ],
      "metadata": {
        "id": "qENcDf16ixx3"
      },
      "execution_count": null,
      "outputs": []
    },
    {
      "cell_type": "code",
      "source": [
        "print(label_map)"
      ],
      "metadata": {
        "colab": {
          "base_uri": "https://localhost:8080/"
        },
        "id": "NNOxUeaKixp2",
        "outputId": "cd1a93a5-5173-4d74-edf3-46c4586ddc85"
      },
      "execution_count": null,
      "outputs": [
        {
          "output_type": "stream",
          "name": "stdout",
          "text": [
            "{'donuts': 0, 'fries': 1, 'noodles': 2, 'pizza': 3, 'samosa': 4}\n"
          ]
        }
      ]
    },
    {
      "cell_type": "code",
      "execution_count": null,
      "metadata": {
        "colab": {
          "base_uri": "https://localhost:8080/"
        },
        "id": "7nYglH2jHdtE",
        "outputId": "14380ab2-d6ed-49d8-9dd7-995af436cfd5"
      },
      "outputs": [
        {
          "output_type": "stream",
          "name": "stdout",
          "text": [
            "Downloading data from https://storage.googleapis.com/tensorflow/keras-applications/resnet/resnet50_weights_tf_dim_ordering_tf_kernels_notop.h5\n",
            "94773248/94765736 [==============================] - 3s 0us/step\n",
            "94781440/94765736 [==============================] - 3s 0us/step\n",
            "Model: \"resnet50\"\n",
            "__________________________________________________________________________________________________\n",
            " Layer (type)                   Output Shape         Param #     Connected to                     \n",
            "==================================================================================================\n",
            " input_1 (InputLayer)           [(None, 224, 224, 3  0           []                               \n",
            "                                )]                                                                \n",
            "                                                                                                  \n",
            " conv1_pad (ZeroPadding2D)      (None, 230, 230, 3)  0           ['input_1[0][0]']                \n",
            "                                                                                                  \n",
            " conv1_conv (Conv2D)            (None, 112, 112, 64  9472        ['conv1_pad[0][0]']              \n",
            "                                )                                                                 \n",
            "                                                                                                  \n",
            " conv1_bn (BatchNormalization)  (None, 112, 112, 64  256         ['conv1_conv[0][0]']             \n",
            "                                )                                                                 \n",
            "                                                                                                  \n",
            " conv1_relu (Activation)        (None, 112, 112, 64  0           ['conv1_bn[0][0]']               \n",
            "                                )                                                                 \n",
            "                                                                                                  \n",
            " pool1_pad (ZeroPadding2D)      (None, 114, 114, 64  0           ['conv1_relu[0][0]']             \n",
            "                                )                                                                 \n",
            "                                                                                                  \n",
            " pool1_pool (MaxPooling2D)      (None, 56, 56, 64)   0           ['pool1_pad[0][0]']              \n",
            "                                                                                                  \n",
            " conv2_block1_1_conv (Conv2D)   (None, 56, 56, 64)   4160        ['pool1_pool[0][0]']             \n",
            "                                                                                                  \n",
            " conv2_block1_1_bn (BatchNormal  (None, 56, 56, 64)  256         ['conv2_block1_1_conv[0][0]']    \n",
            " ization)                                                                                         \n",
            "                                                                                                  \n",
            " conv2_block1_1_relu (Activatio  (None, 56, 56, 64)  0           ['conv2_block1_1_bn[0][0]']      \n",
            " n)                                                                                               \n",
            "                                                                                                  \n",
            " conv2_block1_2_conv (Conv2D)   (None, 56, 56, 64)   36928       ['conv2_block1_1_relu[0][0]']    \n",
            "                                                                                                  \n",
            " conv2_block1_2_bn (BatchNormal  (None, 56, 56, 64)  256         ['conv2_block1_2_conv[0][0]']    \n",
            " ization)                                                                                         \n",
            "                                                                                                  \n",
            " conv2_block1_2_relu (Activatio  (None, 56, 56, 64)  0           ['conv2_block1_2_bn[0][0]']      \n",
            " n)                                                                                               \n",
            "                                                                                                  \n",
            " conv2_block1_0_conv (Conv2D)   (None, 56, 56, 256)  16640       ['pool1_pool[0][0]']             \n",
            "                                                                                                  \n",
            " conv2_block1_3_conv (Conv2D)   (None, 56, 56, 256)  16640       ['conv2_block1_2_relu[0][0]']    \n",
            "                                                                                                  \n",
            " conv2_block1_0_bn (BatchNormal  (None, 56, 56, 256)  1024       ['conv2_block1_0_conv[0][0]']    \n",
            " ization)                                                                                         \n",
            "                                                                                                  \n",
            " conv2_block1_3_bn (BatchNormal  (None, 56, 56, 256)  1024       ['conv2_block1_3_conv[0][0]']    \n",
            " ization)                                                                                         \n",
            "                                                                                                  \n",
            " conv2_block1_add (Add)         (None, 56, 56, 256)  0           ['conv2_block1_0_bn[0][0]',      \n",
            "                                                                  'conv2_block1_3_bn[0][0]']      \n",
            "                                                                                                  \n",
            " conv2_block1_out (Activation)  (None, 56, 56, 256)  0           ['conv2_block1_add[0][0]']       \n",
            "                                                                                                  \n",
            " conv2_block2_1_conv (Conv2D)   (None, 56, 56, 64)   16448       ['conv2_block1_out[0][0]']       \n",
            "                                                                                                  \n",
            " conv2_block2_1_bn (BatchNormal  (None, 56, 56, 64)  256         ['conv2_block2_1_conv[0][0]']    \n",
            " ization)                                                                                         \n",
            "                                                                                                  \n",
            " conv2_block2_1_relu (Activatio  (None, 56, 56, 64)  0           ['conv2_block2_1_bn[0][0]']      \n",
            " n)                                                                                               \n",
            "                                                                                                  \n",
            " conv2_block2_2_conv (Conv2D)   (None, 56, 56, 64)   36928       ['conv2_block2_1_relu[0][0]']    \n",
            "                                                                                                  \n",
            " conv2_block2_2_bn (BatchNormal  (None, 56, 56, 64)  256         ['conv2_block2_2_conv[0][0]']    \n",
            " ization)                                                                                         \n",
            "                                                                                                  \n",
            " conv2_block2_2_relu (Activatio  (None, 56, 56, 64)  0           ['conv2_block2_2_bn[0][0]']      \n",
            " n)                                                                                               \n",
            "                                                                                                  \n",
            " conv2_block2_3_conv (Conv2D)   (None, 56, 56, 256)  16640       ['conv2_block2_2_relu[0][0]']    \n",
            "                                                                                                  \n",
            " conv2_block2_3_bn (BatchNormal  (None, 56, 56, 256)  1024       ['conv2_block2_3_conv[0][0]']    \n",
            " ization)                                                                                         \n",
            "                                                                                                  \n",
            " conv2_block2_add (Add)         (None, 56, 56, 256)  0           ['conv2_block1_out[0][0]',       \n",
            "                                                                  'conv2_block2_3_bn[0][0]']      \n",
            "                                                                                                  \n",
            " conv2_block2_out (Activation)  (None, 56, 56, 256)  0           ['conv2_block2_add[0][0]']       \n",
            "                                                                                                  \n",
            " conv2_block3_1_conv (Conv2D)   (None, 56, 56, 64)   16448       ['conv2_block2_out[0][0]']       \n",
            "                                                                                                  \n",
            " conv2_block3_1_bn (BatchNormal  (None, 56, 56, 64)  256         ['conv2_block3_1_conv[0][0]']    \n",
            " ization)                                                                                         \n",
            "                                                                                                  \n",
            " conv2_block3_1_relu (Activatio  (None, 56, 56, 64)  0           ['conv2_block3_1_bn[0][0]']      \n",
            " n)                                                                                               \n",
            "                                                                                                  \n",
            " conv2_block3_2_conv (Conv2D)   (None, 56, 56, 64)   36928       ['conv2_block3_1_relu[0][0]']    \n",
            "                                                                                                  \n",
            " conv2_block3_2_bn (BatchNormal  (None, 56, 56, 64)  256         ['conv2_block3_2_conv[0][0]']    \n",
            " ization)                                                                                         \n",
            "                                                                                                  \n",
            " conv2_block3_2_relu (Activatio  (None, 56, 56, 64)  0           ['conv2_block3_2_bn[0][0]']      \n",
            " n)                                                                                               \n",
            "                                                                                                  \n",
            " conv2_block3_3_conv (Conv2D)   (None, 56, 56, 256)  16640       ['conv2_block3_2_relu[0][0]']    \n",
            "                                                                                                  \n",
            " conv2_block3_3_bn (BatchNormal  (None, 56, 56, 256)  1024       ['conv2_block3_3_conv[0][0]']    \n",
            " ization)                                                                                         \n",
            "                                                                                                  \n",
            " conv2_block3_add (Add)         (None, 56, 56, 256)  0           ['conv2_block2_out[0][0]',       \n",
            "                                                                  'conv2_block3_3_bn[0][0]']      \n",
            "                                                                                                  \n",
            " conv2_block3_out (Activation)  (None, 56, 56, 256)  0           ['conv2_block3_add[0][0]']       \n",
            "                                                                                                  \n",
            " conv3_block1_1_conv (Conv2D)   (None, 28, 28, 128)  32896       ['conv2_block3_out[0][0]']       \n",
            "                                                                                                  \n",
            " conv3_block1_1_bn (BatchNormal  (None, 28, 28, 128)  512        ['conv3_block1_1_conv[0][0]']    \n",
            " ization)                                                                                         \n",
            "                                                                                                  \n",
            " conv3_block1_1_relu (Activatio  (None, 28, 28, 128)  0          ['conv3_block1_1_bn[0][0]']      \n",
            " n)                                                                                               \n",
            "                                                                                                  \n",
            " conv3_block1_2_conv (Conv2D)   (None, 28, 28, 128)  147584      ['conv3_block1_1_relu[0][0]']    \n",
            "                                                                                                  \n",
            " conv3_block1_2_bn (BatchNormal  (None, 28, 28, 128)  512        ['conv3_block1_2_conv[0][0]']    \n",
            " ization)                                                                                         \n",
            "                                                                                                  \n",
            " conv3_block1_2_relu (Activatio  (None, 28, 28, 128)  0          ['conv3_block1_2_bn[0][0]']      \n",
            " n)                                                                                               \n",
            "                                                                                                  \n",
            " conv3_block1_0_conv (Conv2D)   (None, 28, 28, 512)  131584      ['conv2_block3_out[0][0]']       \n",
            "                                                                                                  \n",
            " conv3_block1_3_conv (Conv2D)   (None, 28, 28, 512)  66048       ['conv3_block1_2_relu[0][0]']    \n",
            "                                                                                                  \n",
            " conv3_block1_0_bn (BatchNormal  (None, 28, 28, 512)  2048       ['conv3_block1_0_conv[0][0]']    \n",
            " ization)                                                                                         \n",
            "                                                                                                  \n",
            " conv3_block1_3_bn (BatchNormal  (None, 28, 28, 512)  2048       ['conv3_block1_3_conv[0][0]']    \n",
            " ization)                                                                                         \n",
            "                                                                                                  \n",
            " conv3_block1_add (Add)         (None, 28, 28, 512)  0           ['conv3_block1_0_bn[0][0]',      \n",
            "                                                                  'conv3_block1_3_bn[0][0]']      \n",
            "                                                                                                  \n",
            " conv3_block1_out (Activation)  (None, 28, 28, 512)  0           ['conv3_block1_add[0][0]']       \n",
            "                                                                                                  \n",
            " conv3_block2_1_conv (Conv2D)   (None, 28, 28, 128)  65664       ['conv3_block1_out[0][0]']       \n",
            "                                                                                                  \n",
            " conv3_block2_1_bn (BatchNormal  (None, 28, 28, 128)  512        ['conv3_block2_1_conv[0][0]']    \n",
            " ization)                                                                                         \n",
            "                                                                                                  \n",
            " conv3_block2_1_relu (Activatio  (None, 28, 28, 128)  0          ['conv3_block2_1_bn[0][0]']      \n",
            " n)                                                                                               \n",
            "                                                                                                  \n",
            " conv3_block2_2_conv (Conv2D)   (None, 28, 28, 128)  147584      ['conv3_block2_1_relu[0][0]']    \n",
            "                                                                                                  \n",
            " conv3_block2_2_bn (BatchNormal  (None, 28, 28, 128)  512        ['conv3_block2_2_conv[0][0]']    \n",
            " ization)                                                                                         \n",
            "                                                                                                  \n",
            " conv3_block2_2_relu (Activatio  (None, 28, 28, 128)  0          ['conv3_block2_2_bn[0][0]']      \n",
            " n)                                                                                               \n",
            "                                                                                                  \n",
            " conv3_block2_3_conv (Conv2D)   (None, 28, 28, 512)  66048       ['conv3_block2_2_relu[0][0]']    \n",
            "                                                                                                  \n",
            " conv3_block2_3_bn (BatchNormal  (None, 28, 28, 512)  2048       ['conv3_block2_3_conv[0][0]']    \n",
            " ization)                                                                                         \n",
            "                                                                                                  \n",
            " conv3_block2_add (Add)         (None, 28, 28, 512)  0           ['conv3_block1_out[0][0]',       \n",
            "                                                                  'conv3_block2_3_bn[0][0]']      \n",
            "                                                                                                  \n",
            " conv3_block2_out (Activation)  (None, 28, 28, 512)  0           ['conv3_block2_add[0][0]']       \n",
            "                                                                                                  \n",
            " conv3_block3_1_conv (Conv2D)   (None, 28, 28, 128)  65664       ['conv3_block2_out[0][0]']       \n",
            "                                                                                                  \n",
            " conv3_block3_1_bn (BatchNormal  (None, 28, 28, 128)  512        ['conv3_block3_1_conv[0][0]']    \n",
            " ization)                                                                                         \n",
            "                                                                                                  \n",
            " conv3_block3_1_relu (Activatio  (None, 28, 28, 128)  0          ['conv3_block3_1_bn[0][0]']      \n",
            " n)                                                                                               \n",
            "                                                                                                  \n",
            " conv3_block3_2_conv (Conv2D)   (None, 28, 28, 128)  147584      ['conv3_block3_1_relu[0][0]']    \n",
            "                                                                                                  \n",
            " conv3_block3_2_bn (BatchNormal  (None, 28, 28, 128)  512        ['conv3_block3_2_conv[0][0]']    \n",
            " ization)                                                                                         \n",
            "                                                                                                  \n",
            " conv3_block3_2_relu (Activatio  (None, 28, 28, 128)  0          ['conv3_block3_2_bn[0][0]']      \n",
            " n)                                                                                               \n",
            "                                                                                                  \n",
            " conv3_block3_3_conv (Conv2D)   (None, 28, 28, 512)  66048       ['conv3_block3_2_relu[0][0]']    \n",
            "                                                                                                  \n",
            " conv3_block3_3_bn (BatchNormal  (None, 28, 28, 512)  2048       ['conv3_block3_3_conv[0][0]']    \n",
            " ization)                                                                                         \n",
            "                                                                                                  \n",
            " conv3_block3_add (Add)         (None, 28, 28, 512)  0           ['conv3_block2_out[0][0]',       \n",
            "                                                                  'conv3_block3_3_bn[0][0]']      \n",
            "                                                                                                  \n",
            " conv3_block3_out (Activation)  (None, 28, 28, 512)  0           ['conv3_block3_add[0][0]']       \n",
            "                                                                                                  \n",
            " conv3_block4_1_conv (Conv2D)   (None, 28, 28, 128)  65664       ['conv3_block3_out[0][0]']       \n",
            "                                                                                                  \n",
            " conv3_block4_1_bn (BatchNormal  (None, 28, 28, 128)  512        ['conv3_block4_1_conv[0][0]']    \n",
            " ization)                                                                                         \n",
            "                                                                                                  \n",
            " conv3_block4_1_relu (Activatio  (None, 28, 28, 128)  0          ['conv3_block4_1_bn[0][0]']      \n",
            " n)                                                                                               \n",
            "                                                                                                  \n",
            " conv3_block4_2_conv (Conv2D)   (None, 28, 28, 128)  147584      ['conv3_block4_1_relu[0][0]']    \n",
            "                                                                                                  \n",
            " conv3_block4_2_bn (BatchNormal  (None, 28, 28, 128)  512        ['conv3_block4_2_conv[0][0]']    \n",
            " ization)                                                                                         \n",
            "                                                                                                  \n",
            " conv3_block4_2_relu (Activatio  (None, 28, 28, 128)  0          ['conv3_block4_2_bn[0][0]']      \n",
            " n)                                                                                               \n",
            "                                                                                                  \n",
            " conv3_block4_3_conv (Conv2D)   (None, 28, 28, 512)  66048       ['conv3_block4_2_relu[0][0]']    \n",
            "                                                                                                  \n",
            " conv3_block4_3_bn (BatchNormal  (None, 28, 28, 512)  2048       ['conv3_block4_3_conv[0][0]']    \n",
            " ization)                                                                                         \n",
            "                                                                                                  \n",
            " conv3_block4_add (Add)         (None, 28, 28, 512)  0           ['conv3_block3_out[0][0]',       \n",
            "                                                                  'conv3_block4_3_bn[0][0]']      \n",
            "                                                                                                  \n",
            " conv3_block4_out (Activation)  (None, 28, 28, 512)  0           ['conv3_block4_add[0][0]']       \n",
            "                                                                                                  \n",
            " conv4_block1_1_conv (Conv2D)   (None, 14, 14, 256)  131328      ['conv3_block4_out[0][0]']       \n",
            "                                                                                                  \n",
            " conv4_block1_1_bn (BatchNormal  (None, 14, 14, 256)  1024       ['conv4_block1_1_conv[0][0]']    \n",
            " ization)                                                                                         \n",
            "                                                                                                  \n",
            " conv4_block1_1_relu (Activatio  (None, 14, 14, 256)  0          ['conv4_block1_1_bn[0][0]']      \n",
            " n)                                                                                               \n",
            "                                                                                                  \n",
            " conv4_block1_2_conv (Conv2D)   (None, 14, 14, 256)  590080      ['conv4_block1_1_relu[0][0]']    \n",
            "                                                                                                  \n",
            " conv4_block1_2_bn (BatchNormal  (None, 14, 14, 256)  1024       ['conv4_block1_2_conv[0][0]']    \n",
            " ization)                                                                                         \n",
            "                                                                                                  \n",
            " conv4_block1_2_relu (Activatio  (None, 14, 14, 256)  0          ['conv4_block1_2_bn[0][0]']      \n",
            " n)                                                                                               \n",
            "                                                                                                  \n",
            " conv4_block1_0_conv (Conv2D)   (None, 14, 14, 1024  525312      ['conv3_block4_out[0][0]']       \n",
            "                                )                                                                 \n",
            "                                                                                                  \n",
            " conv4_block1_3_conv (Conv2D)   (None, 14, 14, 1024  263168      ['conv4_block1_2_relu[0][0]']    \n",
            "                                )                                                                 \n",
            "                                                                                                  \n",
            " conv4_block1_0_bn (BatchNormal  (None, 14, 14, 1024  4096       ['conv4_block1_0_conv[0][0]']    \n",
            " ization)                       )                                                                 \n",
            "                                                                                                  \n",
            " conv4_block1_3_bn (BatchNormal  (None, 14, 14, 1024  4096       ['conv4_block1_3_conv[0][0]']    \n",
            " ization)                       )                                                                 \n",
            "                                                                                                  \n",
            " conv4_block1_add (Add)         (None, 14, 14, 1024  0           ['conv4_block1_0_bn[0][0]',      \n",
            "                                )                                 'conv4_block1_3_bn[0][0]']      \n",
            "                                                                                                  \n",
            " conv4_block1_out (Activation)  (None, 14, 14, 1024  0           ['conv4_block1_add[0][0]']       \n",
            "                                )                                                                 \n",
            "                                                                                                  \n",
            " conv4_block2_1_conv (Conv2D)   (None, 14, 14, 256)  262400      ['conv4_block1_out[0][0]']       \n",
            "                                                                                                  \n",
            " conv4_block2_1_bn (BatchNormal  (None, 14, 14, 256)  1024       ['conv4_block2_1_conv[0][0]']    \n",
            " ization)                                                                                         \n",
            "                                                                                                  \n",
            " conv4_block2_1_relu (Activatio  (None, 14, 14, 256)  0          ['conv4_block2_1_bn[0][0]']      \n",
            " n)                                                                                               \n",
            "                                                                                                  \n",
            " conv4_block2_2_conv (Conv2D)   (None, 14, 14, 256)  590080      ['conv4_block2_1_relu[0][0]']    \n",
            "                                                                                                  \n",
            " conv4_block2_2_bn (BatchNormal  (None, 14, 14, 256)  1024       ['conv4_block2_2_conv[0][0]']    \n",
            " ization)                                                                                         \n",
            "                                                                                                  \n",
            " conv4_block2_2_relu (Activatio  (None, 14, 14, 256)  0          ['conv4_block2_2_bn[0][0]']      \n",
            " n)                                                                                               \n",
            "                                                                                                  \n",
            " conv4_block2_3_conv (Conv2D)   (None, 14, 14, 1024  263168      ['conv4_block2_2_relu[0][0]']    \n",
            "                                )                                                                 \n",
            "                                                                                                  \n",
            " conv4_block2_3_bn (BatchNormal  (None, 14, 14, 1024  4096       ['conv4_block2_3_conv[0][0]']    \n",
            " ization)                       )                                                                 \n",
            "                                                                                                  \n",
            " conv4_block2_add (Add)         (None, 14, 14, 1024  0           ['conv4_block1_out[0][0]',       \n",
            "                                )                                 'conv4_block2_3_bn[0][0]']      \n",
            "                                                                                                  \n",
            " conv4_block2_out (Activation)  (None, 14, 14, 1024  0           ['conv4_block2_add[0][0]']       \n",
            "                                )                                                                 \n",
            "                                                                                                  \n",
            " conv4_block3_1_conv (Conv2D)   (None, 14, 14, 256)  262400      ['conv4_block2_out[0][0]']       \n",
            "                                                                                                  \n",
            " conv4_block3_1_bn (BatchNormal  (None, 14, 14, 256)  1024       ['conv4_block3_1_conv[0][0]']    \n",
            " ization)                                                                                         \n",
            "                                                                                                  \n",
            " conv4_block3_1_relu (Activatio  (None, 14, 14, 256)  0          ['conv4_block3_1_bn[0][0]']      \n",
            " n)                                                                                               \n",
            "                                                                                                  \n",
            " conv4_block3_2_conv (Conv2D)   (None, 14, 14, 256)  590080      ['conv4_block3_1_relu[0][0]']    \n",
            "                                                                                                  \n",
            " conv4_block3_2_bn (BatchNormal  (None, 14, 14, 256)  1024       ['conv4_block3_2_conv[0][0]']    \n",
            " ization)                                                                                         \n",
            "                                                                                                  \n",
            " conv4_block3_2_relu (Activatio  (None, 14, 14, 256)  0          ['conv4_block3_2_bn[0][0]']      \n",
            " n)                                                                                               \n",
            "                                                                                                  \n",
            " conv4_block3_3_conv (Conv2D)   (None, 14, 14, 1024  263168      ['conv4_block3_2_relu[0][0]']    \n",
            "                                )                                                                 \n",
            "                                                                                                  \n",
            " conv4_block3_3_bn (BatchNormal  (None, 14, 14, 1024  4096       ['conv4_block3_3_conv[0][0]']    \n",
            " ization)                       )                                                                 \n",
            "                                                                                                  \n",
            " conv4_block3_add (Add)         (None, 14, 14, 1024  0           ['conv4_block2_out[0][0]',       \n",
            "                                )                                 'conv4_block3_3_bn[0][0]']      \n",
            "                                                                                                  \n",
            " conv4_block3_out (Activation)  (None, 14, 14, 1024  0           ['conv4_block3_add[0][0]']       \n",
            "                                )                                                                 \n",
            "                                                                                                  \n",
            " conv4_block4_1_conv (Conv2D)   (None, 14, 14, 256)  262400      ['conv4_block3_out[0][0]']       \n",
            "                                                                                                  \n",
            " conv4_block4_1_bn (BatchNormal  (None, 14, 14, 256)  1024       ['conv4_block4_1_conv[0][0]']    \n",
            " ization)                                                                                         \n",
            "                                                                                                  \n",
            " conv4_block4_1_relu (Activatio  (None, 14, 14, 256)  0          ['conv4_block4_1_bn[0][0]']      \n",
            " n)                                                                                               \n",
            "                                                                                                  \n",
            " conv4_block4_2_conv (Conv2D)   (None, 14, 14, 256)  590080      ['conv4_block4_1_relu[0][0]']    \n",
            "                                                                                                  \n",
            " conv4_block4_2_bn (BatchNormal  (None, 14, 14, 256)  1024       ['conv4_block4_2_conv[0][0]']    \n",
            " ization)                                                                                         \n",
            "                                                                                                  \n",
            " conv4_block4_2_relu (Activatio  (None, 14, 14, 256)  0          ['conv4_block4_2_bn[0][0]']      \n",
            " n)                                                                                               \n",
            "                                                                                                  \n",
            " conv4_block4_3_conv (Conv2D)   (None, 14, 14, 1024  263168      ['conv4_block4_2_relu[0][0]']    \n",
            "                                )                                                                 \n",
            "                                                                                                  \n",
            " conv4_block4_3_bn (BatchNormal  (None, 14, 14, 1024  4096       ['conv4_block4_3_conv[0][0]']    \n",
            " ization)                       )                                                                 \n",
            "                                                                                                  \n",
            " conv4_block4_add (Add)         (None, 14, 14, 1024  0           ['conv4_block3_out[0][0]',       \n",
            "                                )                                 'conv4_block4_3_bn[0][0]']      \n",
            "                                                                                                  \n",
            " conv4_block4_out (Activation)  (None, 14, 14, 1024  0           ['conv4_block4_add[0][0]']       \n",
            "                                )                                                                 \n",
            "                                                                                                  \n",
            " conv4_block5_1_conv (Conv2D)   (None, 14, 14, 256)  262400      ['conv4_block4_out[0][0]']       \n",
            "                                                                                                  \n",
            " conv4_block5_1_bn (BatchNormal  (None, 14, 14, 256)  1024       ['conv4_block5_1_conv[0][0]']    \n",
            " ization)                                                                                         \n",
            "                                                                                                  \n",
            " conv4_block5_1_relu (Activatio  (None, 14, 14, 256)  0          ['conv4_block5_1_bn[0][0]']      \n",
            " n)                                                                                               \n",
            "                                                                                                  \n",
            " conv4_block5_2_conv (Conv2D)   (None, 14, 14, 256)  590080      ['conv4_block5_1_relu[0][0]']    \n",
            "                                                                                                  \n",
            " conv4_block5_2_bn (BatchNormal  (None, 14, 14, 256)  1024       ['conv4_block5_2_conv[0][0]']    \n",
            " ization)                                                                                         \n",
            "                                                                                                  \n",
            " conv4_block5_2_relu (Activatio  (None, 14, 14, 256)  0          ['conv4_block5_2_bn[0][0]']      \n",
            " n)                                                                                               \n",
            "                                                                                                  \n",
            " conv4_block5_3_conv (Conv2D)   (None, 14, 14, 1024  263168      ['conv4_block5_2_relu[0][0]']    \n",
            "                                )                                                                 \n",
            "                                                                                                  \n",
            " conv4_block5_3_bn (BatchNormal  (None, 14, 14, 1024  4096       ['conv4_block5_3_conv[0][0]']    \n",
            " ization)                       )                                                                 \n",
            "                                                                                                  \n",
            " conv4_block5_add (Add)         (None, 14, 14, 1024  0           ['conv4_block4_out[0][0]',       \n",
            "                                )                                 'conv4_block5_3_bn[0][0]']      \n",
            "                                                                                                  \n",
            " conv4_block5_out (Activation)  (None, 14, 14, 1024  0           ['conv4_block5_add[0][0]']       \n",
            "                                )                                                                 \n",
            "                                                                                                  \n",
            " conv4_block6_1_conv (Conv2D)   (None, 14, 14, 256)  262400      ['conv4_block5_out[0][0]']       \n",
            "                                                                                                  \n",
            " conv4_block6_1_bn (BatchNormal  (None, 14, 14, 256)  1024       ['conv4_block6_1_conv[0][0]']    \n",
            " ization)                                                                                         \n",
            "                                                                                                  \n",
            " conv4_block6_1_relu (Activatio  (None, 14, 14, 256)  0          ['conv4_block6_1_bn[0][0]']      \n",
            " n)                                                                                               \n",
            "                                                                                                  \n",
            " conv4_block6_2_conv (Conv2D)   (None, 14, 14, 256)  590080      ['conv4_block6_1_relu[0][0]']    \n",
            "                                                                                                  \n",
            " conv4_block6_2_bn (BatchNormal  (None, 14, 14, 256)  1024       ['conv4_block6_2_conv[0][0]']    \n",
            " ization)                                                                                         \n",
            "                                                                                                  \n",
            " conv4_block6_2_relu (Activatio  (None, 14, 14, 256)  0          ['conv4_block6_2_bn[0][0]']      \n",
            " n)                                                                                               \n",
            "                                                                                                  \n",
            " conv4_block6_3_conv (Conv2D)   (None, 14, 14, 1024  263168      ['conv4_block6_2_relu[0][0]']    \n",
            "                                )                                                                 \n",
            "                                                                                                  \n",
            " conv4_block6_3_bn (BatchNormal  (None, 14, 14, 1024  4096       ['conv4_block6_3_conv[0][0]']    \n",
            " ization)                       )                                                                 \n",
            "                                                                                                  \n",
            " conv4_block6_add (Add)         (None, 14, 14, 1024  0           ['conv4_block5_out[0][0]',       \n",
            "                                )                                 'conv4_block6_3_bn[0][0]']      \n",
            "                                                                                                  \n",
            " conv4_block6_out (Activation)  (None, 14, 14, 1024  0           ['conv4_block6_add[0][0]']       \n",
            "                                )                                                                 \n",
            "                                                                                                  \n",
            " conv5_block1_1_conv (Conv2D)   (None, 7, 7, 512)    524800      ['conv4_block6_out[0][0]']       \n",
            "                                                                                                  \n",
            " conv5_block1_1_bn (BatchNormal  (None, 7, 7, 512)   2048        ['conv5_block1_1_conv[0][0]']    \n",
            " ization)                                                                                         \n",
            "                                                                                                  \n",
            " conv5_block1_1_relu (Activatio  (None, 7, 7, 512)   0           ['conv5_block1_1_bn[0][0]']      \n",
            " n)                                                                                               \n",
            "                                                                                                  \n",
            " conv5_block1_2_conv (Conv2D)   (None, 7, 7, 512)    2359808     ['conv5_block1_1_relu[0][0]']    \n",
            "                                                                                                  \n",
            " conv5_block1_2_bn (BatchNormal  (None, 7, 7, 512)   2048        ['conv5_block1_2_conv[0][0]']    \n",
            " ization)                                                                                         \n",
            "                                                                                                  \n",
            " conv5_block1_2_relu (Activatio  (None, 7, 7, 512)   0           ['conv5_block1_2_bn[0][0]']      \n",
            " n)                                                                                               \n",
            "                                                                                                  \n",
            " conv5_block1_0_conv (Conv2D)   (None, 7, 7, 2048)   2099200     ['conv4_block6_out[0][0]']       \n",
            "                                                                                                  \n",
            " conv5_block1_3_conv (Conv2D)   (None, 7, 7, 2048)   1050624     ['conv5_block1_2_relu[0][0]']    \n",
            "                                                                                                  \n",
            " conv5_block1_0_bn (BatchNormal  (None, 7, 7, 2048)  8192        ['conv5_block1_0_conv[0][0]']    \n",
            " ization)                                                                                         \n",
            "                                                                                                  \n",
            " conv5_block1_3_bn (BatchNormal  (None, 7, 7, 2048)  8192        ['conv5_block1_3_conv[0][0]']    \n",
            " ization)                                                                                         \n",
            "                                                                                                  \n",
            " conv5_block1_add (Add)         (None, 7, 7, 2048)   0           ['conv5_block1_0_bn[0][0]',      \n",
            "                                                                  'conv5_block1_3_bn[0][0]']      \n",
            "                                                                                                  \n",
            " conv5_block1_out (Activation)  (None, 7, 7, 2048)   0           ['conv5_block1_add[0][0]']       \n",
            "                                                                                                  \n",
            " conv5_block2_1_conv (Conv2D)   (None, 7, 7, 512)    1049088     ['conv5_block1_out[0][0]']       \n",
            "                                                                                                  \n",
            " conv5_block2_1_bn (BatchNormal  (None, 7, 7, 512)   2048        ['conv5_block2_1_conv[0][0]']    \n",
            " ization)                                                                                         \n",
            "                                                                                                  \n",
            " conv5_block2_1_relu (Activatio  (None, 7, 7, 512)   0           ['conv5_block2_1_bn[0][0]']      \n",
            " n)                                                                                               \n",
            "                                                                                                  \n",
            " conv5_block2_2_conv (Conv2D)   (None, 7, 7, 512)    2359808     ['conv5_block2_1_relu[0][0]']    \n",
            "                                                                                                  \n",
            " conv5_block2_2_bn (BatchNormal  (None, 7, 7, 512)   2048        ['conv5_block2_2_conv[0][0]']    \n",
            " ization)                                                                                         \n",
            "                                                                                                  \n",
            " conv5_block2_2_relu (Activatio  (None, 7, 7, 512)   0           ['conv5_block2_2_bn[0][0]']      \n",
            " n)                                                                                               \n",
            "                                                                                                  \n",
            " conv5_block2_3_conv (Conv2D)   (None, 7, 7, 2048)   1050624     ['conv5_block2_2_relu[0][0]']    \n",
            "                                                                                                  \n",
            " conv5_block2_3_bn (BatchNormal  (None, 7, 7, 2048)  8192        ['conv5_block2_3_conv[0][0]']    \n",
            " ization)                                                                                         \n",
            "                                                                                                  \n",
            " conv5_block2_add (Add)         (None, 7, 7, 2048)   0           ['conv5_block1_out[0][0]',       \n",
            "                                                                  'conv5_block2_3_bn[0][0]']      \n",
            "                                                                                                  \n",
            " conv5_block2_out (Activation)  (None, 7, 7, 2048)   0           ['conv5_block2_add[0][0]']       \n",
            "                                                                                                  \n",
            " conv5_block3_1_conv (Conv2D)   (None, 7, 7, 512)    1049088     ['conv5_block2_out[0][0]']       \n",
            "                                                                                                  \n",
            " conv5_block3_1_bn (BatchNormal  (None, 7, 7, 512)   2048        ['conv5_block3_1_conv[0][0]']    \n",
            " ization)                                                                                         \n",
            "                                                                                                  \n",
            " conv5_block3_1_relu (Activatio  (None, 7, 7, 512)   0           ['conv5_block3_1_bn[0][0]']      \n",
            " n)                                                                                               \n",
            "                                                                                                  \n",
            " conv5_block3_2_conv (Conv2D)   (None, 7, 7, 512)    2359808     ['conv5_block3_1_relu[0][0]']    \n",
            "                                                                                                  \n",
            " conv5_block3_2_bn (BatchNormal  (None, 7, 7, 512)   2048        ['conv5_block3_2_conv[0][0]']    \n",
            " ization)                                                                                         \n",
            "                                                                                                  \n",
            " conv5_block3_2_relu (Activatio  (None, 7, 7, 512)   0           ['conv5_block3_2_bn[0][0]']      \n",
            " n)                                                                                               \n",
            "                                                                                                  \n",
            " conv5_block3_3_conv (Conv2D)   (None, 7, 7, 2048)   1050624     ['conv5_block3_2_relu[0][0]']    \n",
            "                                                                                                  \n",
            " conv5_block3_3_bn (BatchNormal  (None, 7, 7, 2048)  8192        ['conv5_block3_3_conv[0][0]']    \n",
            " ization)                                                                                         \n",
            "                                                                                                  \n",
            " conv5_block3_add (Add)         (None, 7, 7, 2048)   0           ['conv5_block2_out[0][0]',       \n",
            "                                                                  'conv5_block3_3_bn[0][0]']      \n",
            "                                                                                                  \n",
            " conv5_block3_out (Activation)  (None, 7, 7, 2048)   0           ['conv5_block3_add[0][0]']       \n",
            "                                                                                                  \n",
            " max_pool (GlobalMaxPooling2D)  (None, 2048)         0           ['conv5_block3_out[0][0]']       \n",
            "                                                                                                  \n",
            "==================================================================================================\n",
            "Total params: 23,587,712\n",
            "Trainable params: 23,534,592\n",
            "Non-trainable params: 53,120\n",
            "__________________________________________________________________________________________________\n"
          ]
        }
      ],
      "source": [
        "from tensorflow.keras.applications.inception_v3 import InceptionV3\n",
        "from tensorflow.keras.applications.mobilenet_v2 import MobileNetV2\n",
        "from tensorflow.keras.applications import ResNet50\n",
        "# model = InceptionV3(input_shape = (150,150,3),\n",
        "#                                include_top  = False,\n",
        "#                                weights      = None)\n",
        "\n",
        "# model =  MobileNetV2(\n",
        "#     input_shape=(150,150,3), alpha=1.0, include_top=False, weights='imagenet',\n",
        "#     input_tensor=None, pooling=None, classes=1000,\n",
        "#     classifier_activation='softmax' \n",
        "# )\n",
        "\n",
        "resnet = ResNet50(include_top=False, weights='imagenet', input_shape=(224,224,3),pooling='max')\n",
        "\n",
        "res_name = []\n",
        "for layer in resnet.layers:\n",
        "    res_name.append(layer.name)\n",
        "\n",
        "# set_trainable = False\n",
        "# for layer in resnet.layers:\n",
        "#     if layer.name in res_name[-22:]:\n",
        "#         set_trainable = True\n",
        "#     if set_trainable:\n",
        "#         layer.trainable = True\n",
        "#     else:\n",
        "#         layer.trainable = False\n",
        "\n",
        "for layer in resnet.layers:\n",
        "      layer.trainable = True\n",
        "\n",
        "resnet.summary()"
      ]
    },
    {
      "cell_type": "code",
      "execution_count": null,
      "metadata": {
        "colab": {
          "base_uri": "https://localhost:8080/"
        },
        "id": "Nc4fX1m8wmjO",
        "outputId": "876d9455-d0aa-4637-ea1d-b62690590018"
      },
      "outputs": [
        {
          "output_type": "stream",
          "name": "stdout",
          "text": [
            "Model: \"sequential\"\n",
            "_________________________________________________________________\n",
            " Layer (type)                Output Shape              Param #   \n",
            "=================================================================\n",
            " resnet50 (Functional)       (None, 2048)              23587712  \n",
            "                                                                 \n",
            " dense (Dense)               (None, 1024)              2098176   \n",
            "                                                                 \n",
            " dropout (Dropout)           (None, 1024)              0         \n",
            "                                                                 \n",
            " dense_1 (Dense)             (None, 1024)              1049600   \n",
            "                                                                 \n",
            " dropout_1 (Dropout)         (None, 1024)              0         \n",
            "                                                                 \n",
            " dense_2 (Dense)             (None, 1024)              1049600   \n",
            "                                                                 \n",
            " dropout_2 (Dropout)         (None, 1024)              0         \n",
            "                                                                 \n",
            " dense_3 (Dense)             (None, 1024)              1049600   \n",
            "                                                                 \n",
            " dropout_3 (Dropout)         (None, 1024)              0         \n",
            "                                                                 \n",
            " dense_4 (Dense)             (None, 5)                 5125      \n",
            "                                                                 \n",
            "=================================================================\n",
            "Total params: 28,839,813\n",
            "Trainable params: 28,786,693\n",
            "Non-trainable params: 53,120\n",
            "_________________________________________________________________\n"
          ]
        }
      ],
      "source": [
        "from tensorflow.keras.applications import ResNet50\n",
        "from tensorflow.keras.models import Sequential\n",
        "from tensorflow.keras.layers import Dense, Flatten, GlobalAveragePooling2D, Dropout\n",
        "\n",
        "num_classes = 5\n",
        "\n",
        "model = Sequential()\n",
        "model.add(resnet)\n",
        "model.add(Dense(1024, activation='relu'))\n",
        "model.add(Dropout(0.3))\n",
        "model.add(Dense(1024, activation='relu'))\n",
        "model.add(Dropout(0.3))\n",
        "model.add(Dense(1024, activation='relu'))\n",
        "model.add(Dropout(0.3))\n",
        "model.add(Dense(1024, activation='relu'))\n",
        "model.add(Dropout(0.3))\n",
        "model.add(Dense(num_classes, activation='softmax'))\n",
        "\n",
        "model.summary()"
      ]
    },
    {
      "cell_type": "code",
      "execution_count": null,
      "metadata": {
        "colab": {
          "base_uri": "https://localhost:8080/"
        },
        "id": "6n191uHlNMuX",
        "outputId": "06411169-7db5-42a7-b78c-d7ce3cc9459c"
      },
      "outputs": [
        {
          "output_type": "stream",
          "name": "stdout",
          "text": [
            "Collecting tensorflow_addons\n",
            "  Downloading tensorflow_addons-0.16.1-cp37-cp37m-manylinux_2_12_x86_64.manylinux2010_x86_64.whl (1.1 MB)\n",
            "\u001b[?25l\r\u001b[K     |▎                               | 10 kB 27.0 MB/s eta 0:00:01\r\u001b[K     |▋                               | 20 kB 24.3 MB/s eta 0:00:01\r\u001b[K     |▉                               | 30 kB 17.1 MB/s eta 0:00:01\r\u001b[K     |█▏                              | 40 kB 14.7 MB/s eta 0:00:01\r\u001b[K     |█▌                              | 51 kB 10.0 MB/s eta 0:00:01\r\u001b[K     |█▊                              | 61 kB 11.7 MB/s eta 0:00:01\r\u001b[K     |██                              | 71 kB 11.3 MB/s eta 0:00:01\r\u001b[K     |██▍                             | 81 kB 10.9 MB/s eta 0:00:01\r\u001b[K     |██▋                             | 92 kB 12.0 MB/s eta 0:00:01\r\u001b[K     |███                             | 102 kB 11.4 MB/s eta 0:00:01\r\u001b[K     |███▏                            | 112 kB 11.4 MB/s eta 0:00:01\r\u001b[K     |███▌                            | 122 kB 11.4 MB/s eta 0:00:01\r\u001b[K     |███▉                            | 133 kB 11.4 MB/s eta 0:00:01\r\u001b[K     |████                            | 143 kB 11.4 MB/s eta 0:00:01\r\u001b[K     |████▍                           | 153 kB 11.4 MB/s eta 0:00:01\r\u001b[K     |████▊                           | 163 kB 11.4 MB/s eta 0:00:01\r\u001b[K     |█████                           | 174 kB 11.4 MB/s eta 0:00:01\r\u001b[K     |█████▎                          | 184 kB 11.4 MB/s eta 0:00:01\r\u001b[K     |█████▌                          | 194 kB 11.4 MB/s eta 0:00:01\r\u001b[K     |█████▉                          | 204 kB 11.4 MB/s eta 0:00:01\r\u001b[K     |██████▏                         | 215 kB 11.4 MB/s eta 0:00:01\r\u001b[K     |██████▍                         | 225 kB 11.4 MB/s eta 0:00:01\r\u001b[K     |██████▊                         | 235 kB 11.4 MB/s eta 0:00:01\r\u001b[K     |███████                         | 245 kB 11.4 MB/s eta 0:00:01\r\u001b[K     |███████▎                        | 256 kB 11.4 MB/s eta 0:00:01\r\u001b[K     |███████▋                        | 266 kB 11.4 MB/s eta 0:00:01\r\u001b[K     |███████▉                        | 276 kB 11.4 MB/s eta 0:00:01\r\u001b[K     |████████▏                       | 286 kB 11.4 MB/s eta 0:00:01\r\u001b[K     |████████▌                       | 296 kB 11.4 MB/s eta 0:00:01\r\u001b[K     |████████▊                       | 307 kB 11.4 MB/s eta 0:00:01\r\u001b[K     |█████████                       | 317 kB 11.4 MB/s eta 0:00:01\r\u001b[K     |█████████▍                      | 327 kB 11.4 MB/s eta 0:00:01\r\u001b[K     |█████████▋                      | 337 kB 11.4 MB/s eta 0:00:01\r\u001b[K     |██████████                      | 348 kB 11.4 MB/s eta 0:00:01\r\u001b[K     |██████████▏                     | 358 kB 11.4 MB/s eta 0:00:01\r\u001b[K     |██████████▌                     | 368 kB 11.4 MB/s eta 0:00:01\r\u001b[K     |██████████▉                     | 378 kB 11.4 MB/s eta 0:00:01\r\u001b[K     |███████████                     | 389 kB 11.4 MB/s eta 0:00:01\r\u001b[K     |███████████▍                    | 399 kB 11.4 MB/s eta 0:00:01\r\u001b[K     |███████████▊                    | 409 kB 11.4 MB/s eta 0:00:01\r\u001b[K     |████████████                    | 419 kB 11.4 MB/s eta 0:00:01\r\u001b[K     |████████████▎                   | 430 kB 11.4 MB/s eta 0:00:01\r\u001b[K     |████████████▌                   | 440 kB 11.4 MB/s eta 0:00:01\r\u001b[K     |████████████▉                   | 450 kB 11.4 MB/s eta 0:00:01\r\u001b[K     |█████████████▏                  | 460 kB 11.4 MB/s eta 0:00:01\r\u001b[K     |█████████████▍                  | 471 kB 11.4 MB/s eta 0:00:01\r\u001b[K     |█████████████▊                  | 481 kB 11.4 MB/s eta 0:00:01\r\u001b[K     |██████████████                  | 491 kB 11.4 MB/s eta 0:00:01\r\u001b[K     |██████████████▎                 | 501 kB 11.4 MB/s eta 0:00:01\r\u001b[K     |██████████████▋                 | 512 kB 11.4 MB/s eta 0:00:01\r\u001b[K     |██████████████▉                 | 522 kB 11.4 MB/s eta 0:00:01\r\u001b[K     |███████████████▏                | 532 kB 11.4 MB/s eta 0:00:01\r\u001b[K     |███████████████▌                | 542 kB 11.4 MB/s eta 0:00:01\r\u001b[K     |███████████████▊                | 552 kB 11.4 MB/s eta 0:00:01\r\u001b[K     |████████████████                | 563 kB 11.4 MB/s eta 0:00:01\r\u001b[K     |████████████████▍               | 573 kB 11.4 MB/s eta 0:00:01\r\u001b[K     |████████████████▋               | 583 kB 11.4 MB/s eta 0:00:01\r\u001b[K     |█████████████████               | 593 kB 11.4 MB/s eta 0:00:01\r\u001b[K     |█████████████████▏              | 604 kB 11.4 MB/s eta 0:00:01\r\u001b[K     |█████████████████▌              | 614 kB 11.4 MB/s eta 0:00:01\r\u001b[K     |█████████████████▉              | 624 kB 11.4 MB/s eta 0:00:01\r\u001b[K     |██████████████████              | 634 kB 11.4 MB/s eta 0:00:01\r\u001b[K     |██████████████████▍             | 645 kB 11.4 MB/s eta 0:00:01\r\u001b[K     |██████████████████▊             | 655 kB 11.4 MB/s eta 0:00:01\r\u001b[K     |███████████████████             | 665 kB 11.4 MB/s eta 0:00:01\r\u001b[K     |███████████████████▎            | 675 kB 11.4 MB/s eta 0:00:01\r\u001b[K     |███████████████████▌            | 686 kB 11.4 MB/s eta 0:00:01\r\u001b[K     |███████████████████▉            | 696 kB 11.4 MB/s eta 0:00:01\r\u001b[K     |████████████████████▏           | 706 kB 11.4 MB/s eta 0:00:01\r\u001b[K     |████████████████████▍           | 716 kB 11.4 MB/s eta 0:00:01\r\u001b[K     |████████████████████▊           | 727 kB 11.4 MB/s eta 0:00:01\r\u001b[K     |█████████████████████           | 737 kB 11.4 MB/s eta 0:00:01\r\u001b[K     |█████████████████████▎          | 747 kB 11.4 MB/s eta 0:00:01\r\u001b[K     |█████████████████████▋          | 757 kB 11.4 MB/s eta 0:00:01\r\u001b[K     |█████████████████████▉          | 768 kB 11.4 MB/s eta 0:00:01\r\u001b[K     |██████████████████████▏         | 778 kB 11.4 MB/s eta 0:00:01\r\u001b[K     |██████████████████████▌         | 788 kB 11.4 MB/s eta 0:00:01\r\u001b[K     |██████████████████████▊         | 798 kB 11.4 MB/s eta 0:00:01\r\u001b[K     |███████████████████████         | 808 kB 11.4 MB/s eta 0:00:01\r\u001b[K     |███████████████████████▍        | 819 kB 11.4 MB/s eta 0:00:01\r\u001b[K     |███████████████████████▋        | 829 kB 11.4 MB/s eta 0:00:01\r\u001b[K     |████████████████████████        | 839 kB 11.4 MB/s eta 0:00:01\r\u001b[K     |████████████████████████▏       | 849 kB 11.4 MB/s eta 0:00:01\r\u001b[K     |████████████████████████▌       | 860 kB 11.4 MB/s eta 0:00:01\r\u001b[K     |████████████████████████▉       | 870 kB 11.4 MB/s eta 0:00:01\r\u001b[K     |█████████████████████████       | 880 kB 11.4 MB/s eta 0:00:01\r\u001b[K     |█████████████████████████▍      | 890 kB 11.4 MB/s eta 0:00:01\r\u001b[K     |█████████████████████████▊      | 901 kB 11.4 MB/s eta 0:00:01\r\u001b[K     |██████████████████████████      | 911 kB 11.4 MB/s eta 0:00:01\r\u001b[K     |██████████████████████████▎     | 921 kB 11.4 MB/s eta 0:00:01\r\u001b[K     |██████████████████████████▌     | 931 kB 11.4 MB/s eta 0:00:01\r\u001b[K     |██████████████████████████▉     | 942 kB 11.4 MB/s eta 0:00:01\r\u001b[K     |███████████████████████████▏    | 952 kB 11.4 MB/s eta 0:00:01\r\u001b[K     |███████████████████████████▍    | 962 kB 11.4 MB/s eta 0:00:01\r\u001b[K     |███████████████████████████▊    | 972 kB 11.4 MB/s eta 0:00:01\r\u001b[K     |████████████████████████████    | 983 kB 11.4 MB/s eta 0:00:01\r\u001b[K     |████████████████████████████▎   | 993 kB 11.4 MB/s eta 0:00:01\r\u001b[K     |████████████████████████████▋   | 1.0 MB 11.4 MB/s eta 0:00:01\r\u001b[K     |████████████████████████████▉   | 1.0 MB 11.4 MB/s eta 0:00:01\r\u001b[K     |█████████████████████████████▏  | 1.0 MB 11.4 MB/s eta 0:00:01\r\u001b[K     |█████████████████████████████▌  | 1.0 MB 11.4 MB/s eta 0:00:01\r\u001b[K     |█████████████████████████████▊  | 1.0 MB 11.4 MB/s eta 0:00:01\r\u001b[K     |██████████████████████████████  | 1.1 MB 11.4 MB/s eta 0:00:01\r\u001b[K     |██████████████████████████████▍ | 1.1 MB 11.4 MB/s eta 0:00:01\r\u001b[K     |██████████████████████████████▋ | 1.1 MB 11.4 MB/s eta 0:00:01\r\u001b[K     |███████████████████████████████ | 1.1 MB 11.4 MB/s eta 0:00:01\r\u001b[K     |███████████████████████████████▏| 1.1 MB 11.4 MB/s eta 0:00:01\r\u001b[K     |███████████████████████████████▌| 1.1 MB 11.4 MB/s eta 0:00:01\r\u001b[K     |███████████████████████████████▉| 1.1 MB 11.4 MB/s eta 0:00:01\r\u001b[K     |████████████████████████████████| 1.1 MB 11.4 MB/s \n",
            "\u001b[?25hRequirement already satisfied: typeguard>=2.7 in /usr/local/lib/python3.7/dist-packages (from tensorflow_addons) (2.7.1)\n",
            "Installing collected packages: tensorflow-addons\n",
            "Successfully installed tensorflow-addons-0.16.1\n"
          ]
        }
      ],
      "source": [
        "!pip install tensorflow_addons\n",
        "import tensorflow_addons as tfa\n",
        "rms = tf.keras.optimizers.RMSprop(\n",
        "    learning_rate=0.0001)\n",
        "adam = tf.keras.optimizers.Adam(learning_rate=0.0001)\n",
        "model.compile(optimizer = rms, loss = 'categorical_crossentropy', metrics=['accuracy',tfa.metrics.F1Score(num_classes=num_classes)])"
      ]
    },
    {
      "cell_type": "code",
      "execution_count": null,
      "metadata": {
        "colab": {
          "base_uri": "https://localhost:8080/"
        },
        "id": "23WdXjvvH8hJ",
        "outputId": "f13a4e41-3fb1-470f-e3b3-d79111ec1c22"
      },
      "outputs": [
        {
          "output_type": "stream",
          "name": "stderr",
          "text": [
            "/usr/local/lib/python3.7/dist-packages/ipykernel_launcher.py:15: UserWarning: `Model.fit_generator` is deprecated and will be removed in a future version. Please use `Model.fit`, which supports generators.\n",
            "  from ipykernel import kernelapp as app\n"
          ]
        },
        {
          "output_type": "stream",
          "name": "stdout",
          "text": [
            "Epoch 1/25\n",
            "165/165 [==============================] - 166s 805ms/step - loss: 1.6289 - accuracy: 0.5958 - f1_score: 0.5954 - val_loss: 4.0819 - val_accuracy: 0.2268 - val_f1_score: 0.0740\n",
            "Epoch 2/25\n",
            "165/165 [==============================] - 133s 807ms/step - loss: 0.6097 - accuracy: 0.8164 - f1_score: 0.8161 - val_loss: 2.0424 - val_accuracy: 0.1988 - val_f1_score: 0.0663\n",
            "Epoch 3/25\n",
            "165/165 [==============================] - 134s 810ms/step - loss: 0.4697 - accuracy: 0.8615 - f1_score: 0.8621 - val_loss: 1.8503 - val_accuracy: 0.2756 - val_f1_score: 0.1702\n",
            "Epoch 4/25\n",
            "165/165 [==============================] - 132s 798ms/step - loss: 0.4144 - accuracy: 0.8864 - f1_score: 0.8869 - val_loss: 2.6067 - val_accuracy: 0.4549 - val_f1_score: 0.4184\n",
            "Epoch 5/25\n",
            "165/165 [==============================] - 132s 798ms/step - loss: 0.4200 - accuracy: 0.8895 - f1_score: 0.8896 - val_loss: 1.3620 - val_accuracy: 0.7280 - val_f1_score: 0.7267\n",
            "Epoch 6/25\n",
            "165/165 [==============================] - 132s 795ms/step - loss: 0.3510 - accuracy: 0.9087 - f1_score: 0.9087 - val_loss: 4.7880 - val_accuracy: 0.6939 - val_f1_score: 0.6972\n",
            "Epoch 7/25\n",
            "165/165 [==============================] - 132s 797ms/step - loss: 0.3608 - accuracy: 0.9108 - f1_score: 0.9111 - val_loss: 0.3089 - val_accuracy: 0.9561 - val_f1_score: 0.9564\n",
            "Epoch 8/25\n",
            "165/165 [==============================] - 132s 795ms/step - loss: 0.3154 - accuracy: 0.9145 - f1_score: 0.9145 - val_loss: 0.5738 - val_accuracy: 0.9427 - val_f1_score: 0.9424\n",
            "Epoch 9/25\n",
            "165/165 [==============================] - 132s 797ms/step - loss: 0.2884 - accuracy: 0.9205 - f1_score: 0.9207 - val_loss: 0.2507 - val_accuracy: 0.9585 - val_f1_score: 0.9582\n",
            "Epoch 10/25\n",
            "165/165 [==============================] - 131s 795ms/step - loss: 0.3303 - accuracy: 0.9212 - f1_score: 0.9213 - val_loss: 19.6945 - val_accuracy: 0.5890 - val_f1_score: 0.5930\n",
            "Epoch 11/25\n",
            "165/165 [==============================] - 132s 798ms/step - loss: 0.3772 - accuracy: 0.9212 - f1_score: 0.9212 - val_loss: 1.4685 - val_accuracy: 0.8439 - val_f1_score: 0.8438\n",
            "Epoch 12/25\n",
            "165/165 [==============================] - 132s 797ms/step - loss: 0.2811 - accuracy: 0.9339 - f1_score: 0.9341 - val_loss: 0.4513 - val_accuracy: 0.9500 - val_f1_score: 0.9495\n",
            "Epoch 13/25\n",
            "165/165 [==============================] - 131s 795ms/step - loss: 0.2243 - accuracy: 0.9355 - f1_score: 0.9355 - val_loss: 0.2929 - val_accuracy: 0.9537 - val_f1_score: 0.9537\n",
            "Epoch 14/25\n",
            "165/165 [==============================] - 132s 797ms/step - loss: 0.2146 - accuracy: 0.9430 - f1_score: 0.9428 - val_loss: 0.7137 - val_accuracy: 0.8951 - val_f1_score: 0.8983\n",
            "Epoch 15/25\n",
            "165/165 [==============================] - 131s 792ms/step - loss: 0.2549 - accuracy: 0.9443 - f1_score: 0.9444 - val_loss: 0.3626 - val_accuracy: 0.9366 - val_f1_score: 0.9360\n",
            "Epoch 16/25\n",
            "165/165 [==============================] - 131s 793ms/step - loss: 0.2520 - accuracy: 0.9412 - f1_score: 0.9415 - val_loss: 3.7594 - val_accuracy: 0.7902 - val_f1_score: 0.7952\n",
            "Epoch 17/25\n",
            "165/165 [==============================] - 132s 796ms/step - loss: 0.2766 - accuracy: 0.9394 - f1_score: 0.9391 - val_loss: 12.5083 - val_accuracy: 0.7561 - val_f1_score: 0.7626\n",
            "Epoch 18/25\n",
            "165/165 [==============================] - 132s 796ms/step - loss: 0.2986 - accuracy: 0.9370 - f1_score: 0.9370 - val_loss: 2.0721 - val_accuracy: 0.9012 - val_f1_score: 0.9013\n",
            "Epoch 19/25\n",
            "165/165 [==============================] - 131s 795ms/step - loss: 0.3737 - accuracy: 0.9406 - f1_score: 0.9408 - val_loss: 0.3528 - val_accuracy: 0.9366 - val_f1_score: 0.9366\n",
            "Epoch 20/25\n",
            "165/165 [==============================] - 131s 795ms/step - loss: 0.2567 - accuracy: 0.9349 - f1_score: 0.9348 - val_loss: 0.3066 - val_accuracy: 0.9341 - val_f1_score: 0.9347\n",
            "Epoch 21/25\n",
            "165/165 [==============================] - 131s 794ms/step - loss: 0.2567 - accuracy: 0.9479 - f1_score: 0.9481 - val_loss: 0.2757 - val_accuracy: 0.9549 - val_f1_score: 0.9547\n",
            "Epoch 22/25\n",
            "165/165 [==============================] - 131s 795ms/step - loss: 0.3564 - accuracy: 0.9425 - f1_score: 0.9426 - val_loss: 0.1728 - val_accuracy: 0.9634 - val_f1_score: 0.9636\n",
            "Epoch 23/25\n",
            "165/165 [==============================] - 131s 794ms/step - loss: 0.1955 - accuracy: 0.9553 - f1_score: 0.9551 - val_loss: 0.1661 - val_accuracy: 0.9598 - val_f1_score: 0.9594\n",
            "Epoch 24/25\n",
            "165/165 [==============================] - 132s 796ms/step - loss: 0.2764 - accuracy: 0.9497 - f1_score: 0.9498 - val_loss: 0.2943 - val_accuracy: 0.9402 - val_f1_score: 0.9399\n",
            "Epoch 25/25\n",
            "165/165 [==============================] - 131s 795ms/step - loss: 0.2295 - accuracy: 0.9510 - f1_score: 0.9509 - val_loss: 0.2529 - val_accuracy: 0.9561 - val_f1_score: 0.9570\n"
          ]
        }
      ],
      "source": [
        "import numpy as np \n",
        "class myCallback(tf.keras.callbacks.Callback):\n",
        "      def on_epoch_end(self, epoch, logs={}):\n",
        "        if(logs.get('accuracy')>0.99):\n",
        "            print(\"\\nReached 99.0% accuracy so cancelling training!\")\n",
        "            self.model.stop_training = True \n",
        "\n",
        "callbacks = myCallback()\n",
        "\n",
        "history = model.fit_generator(train_generator,\n",
        "                              steps_per_epoch= int(4125/25),\n",
        "                              epochs = 25, \n",
        "                              validation_steps= int(1025/25),\n",
        "                              validation_data = validation_generator,\n",
        "                              callbacks=[callbacks]                  \n",
        "                              )\n",
        "                             "
      ]
    },
    {
      "cell_type": "code",
      "execution_count": null,
      "metadata": {
        "id": "H_ySgx3AMEyr"
      },
      "outputs": [],
      "source": [
        ""
      ]
    },
    {
      "cell_type": "code",
      "execution_count": null,
      "metadata": {
        "id": "lTHTH6FcH-y-",
        "colab": {
          "base_uri": "https://localhost:8080/",
          "height": 299
        },
        "outputId": "18ce74fc-11e8-41f7-8ac2-5eb2eb761999"
      },
      "outputs": [
        {
          "output_type": "display_data",
          "data": {
            "image/png": "[encoded data removed]",
            "text/plain": [
              "<Figure size 432x288 with 1 Axes>"
            ]
          },
          "metadata": {
            "needs_background": "light"
          }
        },
        {
          "output_type": "display_data",
          "data": {
            "text/plain": [
              "<Figure size 432x288 with 0 Axes>"
            ]
          },
          "metadata": {}
        }
      ],
      "source": [
        "%matplotlib inline\n",
        "import matplotlib.pyplot as plt\n",
        "acc = history.history['accuracy']\n",
        "val_acc = history.history['val_accuracy']\n",
        "loss = history.history['loss']\n",
        "val_loss = history.history['val_loss']\n",
        "\n",
        "epochs = range(len(acc))\n",
        "\n",
        "plt.plot(epochs, acc, 'r', label='Training accuracy')\n",
        "plt.plot(epochs, val_acc, 'b', label='Validation accuracy')\n",
        "plt.title('Training and validation accuracy')\n",
        "plt.legend(loc=0)\n",
        "plt.figure()\n",
        "\n",
        "\n",
        "plt.show()"
      ]
    },
    {
      "cell_type": "code",
      "source": [
        "plt.plot(epochs, loss, 'r', label='Training loss')\n",
        "plt.plot(epochs, val_loss, 'b', label='Validation loss')\n",
        "plt.title('Training and validation accuracy')\n",
        "plt.legend(loc=0)\n",
        "plt.figure()\n",
        "\n",
        "\n",
        "plt.show()"
      ],
      "metadata": {
        "colab": {
          "base_uri": "https://localhost:8080/",
          "height": 299
        },
        "id": "QvN4Jt-DPJVq",
        "outputId": "906b3a31-bc7d-414c-f79d-a00c6010e15e"
      },
      "execution_count": null,
      "outputs": [
        {
          "output_type": "display_data",
          "data": {
            "image/png": "[encoded data removed]",
            "text/plain": [
              "<Figure size 432x288 with 1 Axes>"
            ]
          },
          "metadata": {
            "needs_background": "light"
          }
        },
        {
          "output_type": "display_data",
          "data": {
            "text/plain": [
              "<Figure size 432x288 with 0 Axes>"
            ]
          },
          "metadata": {}
        }
      ]
    },
    {
      "cell_type": "code",
      "source": [
        "model.save_weights('resnet_model_weights.h5')\n",
        "model.save('resnet_model.h5')"
      ],
      "metadata": {
        "id": "FgIl-pjWPdBM"
      },
      "execution_count": null,
      "outputs": []
    }
  ],
  "metadata": {
    "accelerator": "GPU",
    "colab": {
      "name": "food_image",
      "provenance": [],
      "collapsed_sections": []
    },
    "kernelspec": {
      "display_name": "Python 3",
      "name": "python3"
    },
    "language_info": {
      "name": "python"
    }
  },
  "nbformat": 4,
  "nbformat_minor": 0
}